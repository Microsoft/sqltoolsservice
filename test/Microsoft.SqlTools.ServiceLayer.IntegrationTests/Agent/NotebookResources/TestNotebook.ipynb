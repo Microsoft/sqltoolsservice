{
    "metadata": {
        "kernelspec": {
            "name": "SQL",
            "display_name": "SQL",
            "language": "sql"
        },
        "language_info": {
            "name": "sql",
            "version": ""
        }
    },
    "nbformat_minor": 2,
    "nbformat": 4,
    "cells": [
        {
            "cell_type": "code",
            "source": "select * from sys.all_objects",
            "metadata": {},
            "outputs": [],
            "execution_count": 2
        }
    ]
}